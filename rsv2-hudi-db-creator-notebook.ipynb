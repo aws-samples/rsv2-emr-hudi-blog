{
 "cells": [
  {
   "cell_type": "markdown",
   "id": "3ce97096-cfb6-428b-b10a-8aaa9cb85ca8",
   "metadata": {},
   "source": [
    "# 0.Notebook Setup With Hudi DB Creator EMR Runtime Role\n"
   ]
  },
  {
   "cell_type": "code",
   "execution_count": null,
   "id": "c559bdd1-da43-4b01-b320-e75c61c30647",
   "metadata": {
    "tags": []
   },
   "outputs": [],
   "source": [
    "%%configure -f\n",
    "{ \"conf\": {\n",
    "    \"spark.jars\":\"hdfs:///apps/hudi/lib/hudi-spark-bundle.jar\",\n",
    "    \"spark.serializer\":\"org.apache.spark.serializer.KryoSerializer\",\n",
    "    \"spark.sql.catalog.spark_catalog\": \"org.apache.spark.sql.hudi.catalog.HoodieCatalog\",\n",
    "    \"spark.sql.extensions\":\"org.apache.spark.sql.hudi.HoodieSparkSessionExtension,com.amazonaws.emr.recordserver.connector.spark.sql.RecordServerSQLExtension\",\n",
    "    \"spark.sql.catalog.spark_catalog.lf.managed\":\"true\"\n",
    "}}\n"
   ]
  },
  {
   "cell_type": "code",
   "execution_count": null,
   "id": "a276570e-9f6e-4547-8c29-77f006b9f76e",
   "metadata": {
    "tags": []
   },
   "outputs": [],
   "source": [
    "# Import libraries\n",
    "\n",
    "import os\n",
    "from datetime import datetime\n",
    "\n",
    "from pyspark.sql.functions import col,lit, current_timestamp,unix_timestamp, min, when, desc, split"
   ]
  },
  {
   "cell_type": "markdown",
   "id": "76931093-92fe-4da8-b73f-da88a7c3bfc5",
   "metadata": {},
   "source": [
    "## 0.1 Global variables setup\n",
    "\n",
    "Go to 'CloudFormation'. Select the blog stack, and select 'Outputs' tab. Copy 'S3BucketName' value, and replace `<STACK-OUTPUTS-S3-BUCKET-NAME>` in the following cell."
   ]
  },
  {
   "cell_type": "code",
   "execution_count": null,
   "id": "06e2f773-afb7-4a05-b12c-faf19723a809",
   "metadata": {
    "tags": []
   },
   "outputs": [],
   "source": [
    "S3_BUCKET_NAME = <\"STACK-OUTPUTS-S3-BUCKET-NAME\">"
   ]
  },
  {
   "cell_type": "code",
   "execution_count": null,
   "id": "3845e332-b39e-4736-b000-e4653e0d867d",
   "metadata": {
    "tags": []
   },
   "outputs": [],
   "source": [
    "VERSION = 1\n",
    "\n",
    "# source data variables\n",
    "SRC_DB_NAME = \"tpcparquet\"\n",
    "SRC_TABLE_NAME = \"dl_tpc_customer\"\n",
    "SRC_DATA_TEMP_VIEWT = f\"{SRC_TABLE_NAME}_view_{VERSION}\"\n",
    "\n",
    "SRC_DATA_S3 = os.path.join(\n",
    "    \"s3://\",\n",
    "    S3_BUCKET_NAME,\n",
    "    \"shared_datasets\",\n",
    "    SRC_DB_NAME,\n",
    "    SRC_TABLE_NAME\n",
    ")\n",
    "\n",
    "RECORD_KEY = \"c_customer_id\"\n",
    "PARTITION_FIELD = \"c_birth_country\"\n",
    "PRECOMBINE_FIELD = \"ts\"\n",
    "\n",
    "# target Hudi data variables\n",
    "HUDI_CATALOG = \"spark_catalog\"\n",
    "HUDI_DATABASE = f\"rsv2_blog_hudi_db_{VERSION}\"\n",
    "HUDI_DATABASE_LOCATION = os.path.join(\n",
    "    \"s3://\",\n",
    "    S3_BUCKET_NAME,\n",
    "    HUDI_DATABASE\n",
    ")\n",
    "\n",
    "COW_TABLE_NAME_SQL = f\"rsv2_blog_hudi_cow_sql_{SRC_TABLE_NAME}_{VERSION}\"\n",
    "COW_TABLE_LOCATION_SQL = os.path.join(\n",
    "    HUDI_DATABASE_LOCATION,\n",
    "    COW_TABLE_NAME_SQL\n",
    ")\n",
    "\n",
    "MOR_TABLE_NAME_SQL = f\"rsv2_blog_hudi_mor_sql_{SRC_TABLE_NAME}_{VERSION}\"\n",
    "MOR_TABLE_LOCATION_SQL = os.path.join(\n",
    "    HUDI_DATABASE_LOCATION,\n",
    "    MOR_TABLE_NAME_SQL\n",
    ")"
   ]
  },
  {
   "cell_type": "markdown",
   "id": "2e0a4b51-989a-45a7-8f70-c0dc661fa568",
   "metadata": {},
   "source": [
    "## 0.2 Spark variables setup"
   ]
  },
  {
   "cell_type": "code",
   "execution_count": null,
   "id": "ad84e06c-2aa0-4d2e-86da-08f1d2d3e26c",
   "metadata": {
    "tags": []
   },
   "outputs": [],
   "source": [
    "# sparkmagic SQL configs\n",
    "spark.conf.set('src_df_view', SRC_DATA_TEMP_VIEWT)\n",
    "\n",
    "spark.conf.set('hudi_catalog', HUDI_CATALOG)\n",
    "spark.conf.set('hudi_db', HUDI_DATABASE)\n",
    "spark.conf.set('hudi_db_location', HUDI_DATABASE_LOCATION)\n",
    "\n",
    "spark.conf.set('cow_table_name_sql', COW_TABLE_NAME_SQL)\n",
    "spark.conf.set('cow_table_location_sql', COW_TABLE_LOCATION_SQL)\n",
    "spark.conf.set('merge_table', 'merge_table')\n",
    "spark.conf.set('mor_table_name_sql', MOR_TABLE_NAME_SQL)\n",
    "spark.conf.set('mor_table_location_sql', MOR_TABLE_LOCATION_SQL)\n",
    "\n",
    "spark.conf.set('hudi_primary_key', RECORD_KEY)\n",
    "spark.conf.set('hudi_pre_combined_field', PRECOMBINE_FIELD)\n",
    "spark.conf.set('hudi_partitioin_field', PARTITION_FIELD)"
   ]
  },
  {
   "cell_type": "markdown",
   "id": "369769ed-d936-4c7a-83d8-76b6b701a502",
   "metadata": {},
   "source": [
    "# 1 Create Hudi DB via Lake Formation"
   ]
  },
  {
   "cell_type": "markdown",
   "id": "ddea250c-96ad-43bc-a33b-e349d3d5bcc0",
   "metadata": {},
   "source": [
    "***Please do the following steps in Blog \"Create Hudi DB and Tables In Lake Formation\" Section before runing the following cells***"
   ]
  },
  {
   "cell_type": "code",
   "execution_count": null,
   "id": "23e7d03c-fbca-48e2-bde1-15d223968eb5",
   "metadata": {
    "tags": []
   },
   "outputs": [],
   "source": [
    "%%sql \n",
    "\n",
    "CREATE DATABASE IF NOT EXISTS ${hudi_catalog}.${hudi_db} LOCATION '${hudi_db_location}';"
   ]
  },
  {
   "cell_type": "markdown",
   "id": "7eb8c1be-3835-4ae0-a955-e36beb847b4f",
   "metadata": {},
   "source": [
    "# 2. Hudi DB Creator CoW DDL & DML with Spark SQL"
   ]
  },
  {
   "cell_type": "markdown",
   "id": "b9c3fcf6-3e60-4202-b000-312eae846fa5",
   "metadata": {},
   "source": [
    "## 2.1 Create Hudi CoW table using Spark SQL"
   ]
  },
  {
   "cell_type": "markdown",
   "id": "f9d274c5-6c50-4428-8ce7-69b93ad5cae0",
   "metadata": {
    "tags": []
   },
   "source": [
    "We can drop the table using the following SQL statement \n",
    "```\n",
    "%%sql\n",
    "\n",
    "DROP TABLE IF EXISTS ${hudi_catalog}.${hudi_db}.${cow_table_name_sql};\n",
    "```"
   ]
  },
  {
   "cell_type": "code",
   "execution_count": null,
   "id": "606f8133-d9fd-494c-9dfc-7387b829d827",
   "metadata": {
    "tags": []
   },
   "outputs": [],
   "source": [
    "%%sql \n",
    "\n",
    "CREATE TABLE IF NOT EXISTS ${hudi_catalog}.${hudi_db}.${cow_table_name_sql}(\n",
    "    c_customer_id string,\n",
    "    c_birth_country string,\n",
    "    c_customer_sk integer,\n",
    "    c_email_address string,\n",
    "    c_first_name string,\n",
    "    c_last_name string,\n",
    "    ts bigint\n",
    ") USING hudi\n",
    "LOCATION '${cow_table_location_sql}'\n",
    "OPTIONS (\n",
    "  type = 'cow',\n",
    "  primaryKey = '${hudi_primary_key}',\n",
    "  preCombineField = '${hudi_pre_combined_field}'\n",
    " ) \n",
    "PARTITIONED BY (${hudi_partitioin_field});"
   ]
  },
  {
   "cell_type": "markdown",
   "id": "1bae290a-abf0-4ab5-9afc-405cfdcb8f18",
   "metadata": {},
   "source": [
    "## 2.2 Insert Hudi CoW table using Spark SQL"
   ]
  },
  {
   "cell_type": "code",
   "execution_count": null,
   "id": "522403f7-0113-490d-9de3-f970aa1a55c8",
   "metadata": {
    "tags": []
   },
   "outputs": [],
   "source": [
    "# Read Source Data\n",
    "src_df = spark.read.parquet(SRC_DATA_S3)\n",
    "src_df.createOrReplaceTempView(SRC_DATA_TEMP_VIEWT)\n"
   ]
  },
  {
   "cell_type": "code",
   "execution_count": null,
   "id": "dbc08558-5afe-4de4-8ef7-479eab92517d",
   "metadata": {
    "tags": []
   },
   "outputs": [],
   "source": [
    "%%sql\n",
    "\n",
    "SELECT \n",
    "*\n",
    "FROM ${src_df_view}\n",
    "LIMIT 5\n"
   ]
  },
  {
   "cell_type": "code",
   "execution_count": null,
   "id": "d772fef7-bc58-45c5-9e4e-36786ca5be34",
   "metadata": {
    "tags": []
   },
   "outputs": [],
   "source": [
    "src_df.filter(\n",
    "    (col(\"c_birth_country\") == 'CHINA') | (col(\"c_birth_country\") == 'HONG KONG')\n",
    ").groupBy(\n",
    "    \"c_birth_country\"\n",
    ").count().show(10, False)"
   ]
  },
  {
   "cell_type": "code",
   "execution_count": null,
   "id": "486b78b7-3925-44c5-94d1-4025ef3c8385",
   "metadata": {
    "tags": []
   },
   "outputs": [],
   "source": [
    "%%sql\n",
    "\n",
    "INSERT OVERWRITE ${hudi_catalog}.${hudi_db}.${cow_table_name_sql}\n",
    "SELECT \n",
    "    c_customer_id ,  \n",
    "    c_customer_sk,\n",
    "    c_email_address,\n",
    "    c_first_name,\n",
    "    c_last_name,\n",
    "    unix_timestamp(current_timestamp()) AS ts,\n",
    "    c_birth_country\n",
    "FROM ${src_df_view}\n",
    "WHERE c_birth_country = 'HONG KONG' OR c_birth_country = 'CHINA' \n",
    "LIMIT 1000"
   ]
  },
  {
   "cell_type": "code",
   "execution_count": null,
   "id": "6312a00b-db59-4f09-8c80-df58841b8d01",
   "metadata": {
    "tags": []
   },
   "outputs": [],
   "source": [
    "%%sql\n",
    "\n",
    "SELECT * FROM ${hudi_catalog}.${hudi_db}.${cow_table_name_sql} LIMIT 5"
   ]
  },
  {
   "cell_type": "code",
   "execution_count": null,
   "id": "f4abb6ea-de46-4bca-a401-e84df8bdc612",
   "metadata": {
    "tags": []
   },
   "outputs": [],
   "source": [
    "%%sql\n",
    "\n",
    "SELECT \n",
    "    c_birth_country, \n",
    "    count(*) \n",
    "FROM ${hudi_catalog}.${hudi_db}.${cow_table_name_sql} \n",
    "GROUP BY c_birth_country;"
   ]
  },
  {
   "cell_type": "markdown",
   "id": "e91633f5-56da-4604-94b6-5419367be8ac",
   "metadata": {},
   "source": [
    "## 2.3 Again Insert into Hudi CoW table using Spark SQL"
   ]
  },
  {
   "cell_type": "code",
   "execution_count": null,
   "id": "bae3e319-b4ff-4346-9a4f-3f38ad6b11a5",
   "metadata": {
    "tags": []
   },
   "outputs": [],
   "source": [
    "# Read Source Data\n",
    "src_df = spark.read.parquet(SRC_DATA_S3)\n",
    "src_df.createOrReplaceTempView(SRC_DATA_TEMP_VIEWT)\n",
    "\n",
    "insert_into_view = \"insert_into_view\"\n",
    "\n",
    "spark.conf.set('insert_into_view', insert_into_view)\n"
   ]
  },
  {
   "cell_type": "markdown",
   "id": "70cc321d-0fbe-435b-81a3-9c79fe732851",
   "metadata": {
    "tags": []
   },
   "source": [
    "We can drop the temporary view if we need to update\n",
    "\n",
    "```\n",
    "%%sql \n",
    "\n",
    "DROP VIEW IF EXISTS ${insert_into_view};\n",
    "```"
   ]
  },
  {
   "cell_type": "code",
   "execution_count": null,
   "id": "a1756739-61c4-4fe5-a602-bbd1237a5f3e",
   "metadata": {
    "tags": []
   },
   "outputs": [],
   "source": [
    "%%sql\n",
    "\n",
    "\n",
    "CREATE TEMPORARY VIEW ${insert_into_view} AS (\n",
    "    (SELECT\n",
    "        c_customer_id ,  \n",
    "        c_customer_sk,\n",
    "        c_email_address,\n",
    "        c_first_name,\n",
    "        c_last_name,\n",
    "        unix_timestamp(current_timestamp()) AS ts,\n",
    "        c_birth_country\n",
    "    FROM ${src_df_view}\n",
    "    WHERE c_birth_country = 'INDIA' \n",
    "    LIMIT 3\n",
    "    )\n",
    "    \n",
    "    UNION\n",
    "    \n",
    "    (SELECT\n",
    "        c_customer_id ,  \n",
    "        c_customer_sk,\n",
    "        c_email_address,\n",
    "        'MASKED' AS c_first_name,\n",
    "        c_last_name,\n",
    "        unix_timestamp(current_timestamp()) AS ts,\n",
    "        c_birth_country\n",
    "    FROM ${hudi_catalog}.${hudi_db}.${cow_table_name_sql}\n",
    "    WHERE c_birth_country = 'CHINA' \n",
    "    LIMIT 3\n",
    "    )\n",
    ");"
   ]
  },
  {
   "cell_type": "code",
   "execution_count": null,
   "id": "db26ffb2-c905-49e4-b4de-a5cfd449b953",
   "metadata": {
    "tags": []
   },
   "outputs": [],
   "source": [
    "%%sql\n",
    "\n",
    "SELECT * FROM ${insert_into_view}"
   ]
  },
  {
   "cell_type": "code",
   "execution_count": null,
   "id": "abd02923-2db9-4316-9f26-90a51ff08b97",
   "metadata": {
    "tags": []
   },
   "outputs": [],
   "source": [
    "%%sql\n",
    "INSERT INTO ${hudi_catalog}.${hudi_db}.${cow_table_name_sql}\n",
    "SELECT \n",
    "    c_customer_id ,  \n",
    "    c_customer_sk,\n",
    "    c_email_address,\n",
    "    c_first_name,\n",
    "    c_last_name,\n",
    "    unix_timestamp(current_timestamp()) AS ts,\n",
    "    c_birth_country\n",
    "FROM ${insert_into_view}"
   ]
  },
  {
   "cell_type": "markdown",
   "id": "e56d5386-48ad-4b90-9b78-637b37a70cf0",
   "metadata": {},
   "source": [
    "Check Hudi CoW table after merge_into operation"
   ]
  },
  {
   "cell_type": "code",
   "execution_count": null,
   "id": "eb7eb229-44af-4cbd-a248-b56580b50db9",
   "metadata": {
    "tags": []
   },
   "outputs": [],
   "source": [
    "%%sql\n",
    "\n",
    "SELECT *  \n",
    "FROM ${hudi_catalog}.${hudi_db}.${cow_table_name_sql}\n",
    "WHERE \n",
    "    c_birth_country = 'INDIA' OR c_first_name = 'MASKED'"
   ]
  },
  {
   "cell_type": "markdown",
   "id": "c508c90e-540d-4273-9d5d-178e68fe440b",
   "metadata": {},
   "source": [
    "# 3. Hudi DB Creator MoR DDL & DML with Spark SQL "
   ]
  },
  {
   "cell_type": "markdown",
   "id": "c14bf00f-7b5a-46f6-bf23-6a1a0911f215",
   "metadata": {},
   "source": [
    "## 3.1 Create Hudi MoR table using Spark SQL"
   ]
  },
  {
   "cell_type": "markdown",
   "id": "c373c656-e84b-46fb-99c9-eb4f3cc2a05d",
   "metadata": {
    "tags": []
   },
   "source": [
    "We can drop the table using the following SQL statement \n",
    "```\n",
    "%%sql\n",
    "\n",
    "DROP TABLE IF EXISTS ${hudi_catalog}.${hudi_db}.${mor_table_name_sql};\n",
    "```"
   ]
  },
  {
   "cell_type": "markdown",
   "id": "319fcdae-9234-46bd-b5ca-727e2af75bc4",
   "metadata": {
    "tags": []
   },
   "source": [
    "```\n",
    "%%sql\n",
    "\n",
    "DROP TABLE IF EXISTS ${hudi_catalog}.${hudi_db}.${mor_table_name_sql}_ro;\n",
    "```"
   ]
  },
  {
   "cell_type": "markdown",
   "id": "acf499b4-d37d-488b-add8-213ed1e19bed",
   "metadata": {
    "tags": []
   },
   "source": [
    "```\n",
    "%%sql\n",
    "\n",
    "DROP TABLE IF EXISTS ${hudi_catalog}.${hudi_db}.${mor_table_name_sql}_rt;\n",
    "```"
   ]
  },
  {
   "cell_type": "code",
   "execution_count": null,
   "id": "68934bbb-8232-454f-ac28-13c4d656cb9b",
   "metadata": {
    "tags": []
   },
   "outputs": [],
   "source": [
    "%%sql \n",
    "\n",
    "CREATE TABLE IF NOT EXISTS ${hudi_catalog}.${hudi_db}.${mor_table_name_sql}(\n",
    "    c_customer_id string,\n",
    "    c_birth_country string,\n",
    "    c_customer_sk integer,\n",
    "    c_email_address string,\n",
    "    c_first_name string,\n",
    "    c_last_name string,\n",
    "    ts bigint\n",
    ") USING hudi\n",
    "LOCATION '${mor_table_location_sql}'\n",
    "OPTIONS (\n",
    "  type = 'mor',\n",
    "  primaryKey = '${hudi_primary_key}',\n",
    "  preCombineField = '${hudi_pre_combined_field}'\n",
    " ) \n",
    "PARTITIONED BY (${hudi_partitioin_field});"
   ]
  },
  {
   "cell_type": "markdown",
   "id": "48d30c15-02e9-4923-a1e1-a3074c356101",
   "metadata": {},
   "source": [
    "## 3.2 Insert Hudi MoR table using Spark SQL"
   ]
  },
  {
   "cell_type": "code",
   "execution_count": null,
   "id": "7e7e079b-c16c-4ca2-a603-e218212351ca",
   "metadata": {
    "tags": []
   },
   "outputs": [],
   "source": [
    "# Read Source Data\n",
    "src_df = spark.read.parquet(SRC_DATA_S3)\n",
    "src_df.createOrReplaceTempView(SRC_DATA_TEMP_VIEWT)\n"
   ]
  },
  {
   "cell_type": "code",
   "execution_count": null,
   "id": "29c20b5a-a479-461d-9c95-a37a00023102",
   "metadata": {
    "tags": []
   },
   "outputs": [],
   "source": [
    "%%sql\n",
    "\n",
    "INSERT OVERWRITE ${hudi_catalog}.${hudi_db}.${mor_table_name_sql}\n",
    "SELECT \n",
    "    c_customer_id ,  \n",
    "    c_customer_sk,\n",
    "    c_email_address,\n",
    "    c_first_name,\n",
    "    c_last_name,\n",
    "    unix_timestamp(current_timestamp()) AS ts,\n",
    "    c_birth_country\n",
    "FROM ${src_df_view}\n",
    "WHERE c_birth_country = 'HONG KONG' OR c_birth_country = 'CHINA' \n",
    "LIMIT 1000"
   ]
  },
  {
   "cell_type": "code",
   "execution_count": null,
   "id": "ab094dc1-e0b9-4292-a000-a98b7a5a09e1",
   "metadata": {
    "tags": []
   },
   "outputs": [],
   "source": [
    "%%sql\n",
    "\n",
    "SELECT \n",
    "    c_birth_country, \n",
    "    count(*) \n",
    "FROM ${hudi_catalog}.${hudi_db}.${mor_table_name_sql} \n",
    "GROUP BY c_birth_country;"
   ]
  },
  {
   "cell_type": "markdown",
   "id": "88ac3ccb-659f-4273-af42-784f580211b4",
   "metadata": {},
   "source": [
    "## 3.3 Insert into Hudi MoR table using Spark SQL"
   ]
  },
  {
   "cell_type": "code",
   "execution_count": null,
   "id": "5a1fe21d-f241-4d88-ba43-1740c8396ba2",
   "metadata": {
    "tags": []
   },
   "outputs": [],
   "source": [
    "%%sql\n",
    "\n",
    "INSERT INTO ${hudi_catalog}.${hudi_db}.${mor_table_name_sql}\n",
    "SELECT\n",
    "        c_customer_id ,  \n",
    "        c_customer_sk,\n",
    "        'UNKNOWN' AS c_email_address,\n",
    "        c_first_name,\n",
    "        c_last_name,\n",
    "        unix_timestamp(current_timestamp()) AS ts,\n",
    "        c_birth_country\n",
    "    FROM ${src_df_view}\n",
    "    WHERE c_birth_country = 'HONG KONG' \n",
    "    LIMIT 50"
   ]
  },
  {
   "cell_type": "code",
   "execution_count": null,
   "id": "13bca45d-ad63-4e4c-a208-401280a2a57a",
   "metadata": {
    "tags": []
   },
   "outputs": [],
   "source": [
    "%%sql\n",
    "\n",
    "SELECT\n",
    "    a.email_label,\n",
    "    count(*)\n",
    "FROM (\n",
    "    SELECT\n",
    "        CASE\n",
    "            WHEN c_email_address = 'UNKNOWN' THEN 'UNKNOWN'\n",
    "            ELSE 'NOT_UNKNOWN'\n",
    "        END AS email_label\n",
    "    FROM ${hudi_catalog}.${hudi_db}.${mor_table_name_sql}\n",
    "    WHERE c_birth_country = 'HONG KONG'\n",
    ") a\n",
    "GROUP BY a.email_label;"
   ]
  },
  {
   "cell_type": "markdown",
   "id": "63fe3cf1-06d9-46b4-929f-d1d3f4ae67f3",
   "metadata": {},
   "source": [
    "## 3.4 Again Insert into Hudi MoR table using Spark SQL"
   ]
  },
  {
   "cell_type": "code",
   "execution_count": null,
   "id": "7fe7c1ec-2840-43a4-8dd2-5c53818c1d26",
   "metadata": {
    "tags": []
   },
   "outputs": [],
   "source": [
    "# Read Source Data\n",
    "src_df = spark.read.parquet(SRC_DATA_S3)\n",
    "src_df.createOrReplaceTempView(SRC_DATA_TEMP_VIEWT)\n",
    "\n",
    "mor_insert_into_view = \"mor_insert_into_view\"\n",
    "\n",
    "spark.conf.set('mor_insert_into_view', mor_insert_into_view)"
   ]
  },
  {
   "cell_type": "code",
   "execution_count": null,
   "id": "701229f4-40b4-4e3f-bf63-5fdb685a2785",
   "metadata": {
    "tags": []
   },
   "outputs": [],
   "source": [
    "%%sql\n",
    "\n",
    "CREATE TEMPORARY VIEW ${mor_insert_into_view} AS (\n",
    "    (SELECT\n",
    "        c_customer_id ,  \n",
    "        c_customer_sk,\n",
    "        c_email_address,\n",
    "        c_first_name,\n",
    "        c_last_name,\n",
    "        unix_timestamp(current_timestamp()) AS ts,\n",
    "        c_birth_country\n",
    "    FROM ${src_df_view}\n",
    "    WHERE c_birth_country = 'INDIA' \n",
    "    LIMIT 3\n",
    "    )\n",
    "    \n",
    "    UNION\n",
    "    \n",
    "    (SELECT\n",
    "        c_customer_id ,  \n",
    "        c_customer_sk,\n",
    "        c_email_address,\n",
    "        'MASKED' AS c_first_name,\n",
    "        c_last_name,\n",
    "        unix_timestamp(current_timestamp()) AS ts,\n",
    "        c_birth_country\n",
    "    FROM ${hudi_catalog}.${hudi_db}.${cow_table_name_sql}\n",
    "    WHERE c_birth_country = 'CHINA' \n",
    "    LIMIT 3\n",
    "    )\n",
    ");"
   ]
  },
  {
   "cell_type": "code",
   "execution_count": null,
   "id": "b9977a72-2729-4f79-90a4-fe6d435f3e1d",
   "metadata": {
    "tags": []
   },
   "outputs": [],
   "source": [
    "%%sql\n",
    "\n",
    "INSERT INTO ${hudi_catalog}.${hudi_db}.${mor_table_name_sql}\n",
    "SELECT \n",
    "    c_customer_id ,  \n",
    "    c_customer_sk,\n",
    "    c_email_address,\n",
    "    c_first_name,\n",
    "    c_last_name,\n",
    "    unix_timestamp(current_timestamp()) AS ts,\n",
    "    c_birth_country\n",
    "FROM ${mor_insert_into_view} "
   ]
  },
  {
   "cell_type": "code",
   "execution_count": null,
   "id": "f9c77f8c-3c85-4093-b747-1f70be5a7e61",
   "metadata": {
    "tags": []
   },
   "outputs": [],
   "source": [
    "%%sql\n",
    "\n",
    "SELECT *  \n",
    "FROM ${hudi_catalog}.${hudi_db}.${mor_table_name_sql}\n",
    "WHERE \n",
    "    c_birth_country = 'INDIA' OR c_first_name = 'MASKED'"
   ]
  },
  {
   "cell_type": "code",
   "execution_count": null,
   "id": "ac332f65-862f-4db5-874c-527f7bb8b81f",
   "metadata": {},
   "outputs": [],
   "source": []
  },
  {
   "cell_type": "code",
   "execution_count": null,
   "id": "a45ddf1f-3506-4f9f-bcf9-f6931a353dea",
   "metadata": {},
   "outputs": [],
   "source": []
  }
 ],
 "metadata": {
  "availableInstances": [
   {
    "_defaultOrder": 0,
    "_isFastLaunch": true,
    "category": "General purpose",
    "gpuNum": 0,
    "hideHardwareSpecs": false,
    "memoryGiB": 4,
    "name": "ml.t3.medium",
    "vcpuNum": 2
   },
   {
    "_defaultOrder": 1,
    "_isFastLaunch": false,
    "category": "General purpose",
    "gpuNum": 0,
    "hideHardwareSpecs": false,
    "memoryGiB": 8,
    "name": "ml.t3.large",
    "vcpuNum": 2
   },
   {
    "_defaultOrder": 2,
    "_isFastLaunch": false,
    "category": "General purpose",
    "gpuNum": 0,
    "hideHardwareSpecs": false,
    "memoryGiB": 16,
    "name": "ml.t3.xlarge",
    "vcpuNum": 4
   },
   {
    "_defaultOrder": 3,
    "_isFastLaunch": false,
    "category": "General purpose",
    "gpuNum": 0,
    "hideHardwareSpecs": false,
    "memoryGiB": 32,
    "name": "ml.t3.2xlarge",
    "vcpuNum": 8
   },
   {
    "_defaultOrder": 4,
    "_isFastLaunch": true,
    "category": "General purpose",
    "gpuNum": 0,
    "hideHardwareSpecs": false,
    "memoryGiB": 8,
    "name": "ml.m5.large",
    "vcpuNum": 2
   },
   {
    "_defaultOrder": 5,
    "_isFastLaunch": false,
    "category": "General purpose",
    "gpuNum": 0,
    "hideHardwareSpecs": false,
    "memoryGiB": 16,
    "name": "ml.m5.xlarge",
    "vcpuNum": 4
   },
   {
    "_defaultOrder": 6,
    "_isFastLaunch": false,
    "category": "General purpose",
    "gpuNum": 0,
    "hideHardwareSpecs": false,
    "memoryGiB": 32,
    "name": "ml.m5.2xlarge",
    "vcpuNum": 8
   },
   {
    "_defaultOrder": 7,
    "_isFastLaunch": false,
    "category": "General purpose",
    "gpuNum": 0,
    "hideHardwareSpecs": false,
    "memoryGiB": 64,
    "name": "ml.m5.4xlarge",
    "vcpuNum": 16
   },
   {
    "_defaultOrder": 8,
    "_isFastLaunch": false,
    "category": "General purpose",
    "gpuNum": 0,
    "hideHardwareSpecs": false,
    "memoryGiB": 128,
    "name": "ml.m5.8xlarge",
    "vcpuNum": 32
   },
   {
    "_defaultOrder": 9,
    "_isFastLaunch": false,
    "category": "General purpose",
    "gpuNum": 0,
    "hideHardwareSpecs": false,
    "memoryGiB": 192,
    "name": "ml.m5.12xlarge",
    "vcpuNum": 48
   },
   {
    "_defaultOrder": 10,
    "_isFastLaunch": false,
    "category": "General purpose",
    "gpuNum": 0,
    "hideHardwareSpecs": false,
    "memoryGiB": 256,
    "name": "ml.m5.16xlarge",
    "vcpuNum": 64
   },
   {
    "_defaultOrder": 11,
    "_isFastLaunch": false,
    "category": "General purpose",
    "gpuNum": 0,
    "hideHardwareSpecs": false,
    "memoryGiB": 384,
    "name": "ml.m5.24xlarge",
    "vcpuNum": 96
   },
   {
    "_defaultOrder": 12,
    "_isFastLaunch": false,
    "category": "General purpose",
    "gpuNum": 0,
    "hideHardwareSpecs": false,
    "memoryGiB": 8,
    "name": "ml.m5d.large",
    "vcpuNum": 2
   },
   {
    "_defaultOrder": 13,
    "_isFastLaunch": false,
    "category": "General purpose",
    "gpuNum": 0,
    "hideHardwareSpecs": false,
    "memoryGiB": 16,
    "name": "ml.m5d.xlarge",
    "vcpuNum": 4
   },
   {
    "_defaultOrder": 14,
    "_isFastLaunch": false,
    "category": "General purpose",
    "gpuNum": 0,
    "hideHardwareSpecs": false,
    "memoryGiB": 32,
    "name": "ml.m5d.2xlarge",
    "vcpuNum": 8
   },
   {
    "_defaultOrder": 15,
    "_isFastLaunch": false,
    "category": "General purpose",
    "gpuNum": 0,
    "hideHardwareSpecs": false,
    "memoryGiB": 64,
    "name": "ml.m5d.4xlarge",
    "vcpuNum": 16
   },
   {
    "_defaultOrder": 16,
    "_isFastLaunch": false,
    "category": "General purpose",
    "gpuNum": 0,
    "hideHardwareSpecs": false,
    "memoryGiB": 128,
    "name": "ml.m5d.8xlarge",
    "vcpuNum": 32
   },
   {
    "_defaultOrder": 17,
    "_isFastLaunch": false,
    "category": "General purpose",
    "gpuNum": 0,
    "hideHardwareSpecs": false,
    "memoryGiB": 192,
    "name": "ml.m5d.12xlarge",
    "vcpuNum": 48
   },
   {
    "_defaultOrder": 18,
    "_isFastLaunch": false,
    "category": "General purpose",
    "gpuNum": 0,
    "hideHardwareSpecs": false,
    "memoryGiB": 256,
    "name": "ml.m5d.16xlarge",
    "vcpuNum": 64
   },
   {
    "_defaultOrder": 19,
    "_isFastLaunch": false,
    "category": "General purpose",
    "gpuNum": 0,
    "hideHardwareSpecs": false,
    "memoryGiB": 384,
    "name": "ml.m5d.24xlarge",
    "vcpuNum": 96
   },
   {
    "_defaultOrder": 20,
    "_isFastLaunch": false,
    "category": "General purpose",
    "gpuNum": 0,
    "hideHardwareSpecs": true,
    "memoryGiB": 0,
    "name": "ml.geospatial.interactive",
    "supportedImageNames": [
     "sagemaker-geospatial-v1-0"
    ],
    "vcpuNum": 0
   },
   {
    "_defaultOrder": 21,
    "_isFastLaunch": true,
    "category": "Compute optimized",
    "gpuNum": 0,
    "hideHardwareSpecs": false,
    "memoryGiB": 4,
    "name": "ml.c5.large",
    "vcpuNum": 2
   },
   {
    "_defaultOrder": 22,
    "_isFastLaunch": false,
    "category": "Compute optimized",
    "gpuNum": 0,
    "hideHardwareSpecs": false,
    "memoryGiB": 8,
    "name": "ml.c5.xlarge",
    "vcpuNum": 4
   },
   {
    "_defaultOrder": 23,
    "_isFastLaunch": false,
    "category": "Compute optimized",
    "gpuNum": 0,
    "hideHardwareSpecs": false,
    "memoryGiB": 16,
    "name": "ml.c5.2xlarge",
    "vcpuNum": 8
   },
   {
    "_defaultOrder": 24,
    "_isFastLaunch": false,
    "category": "Compute optimized",
    "gpuNum": 0,
    "hideHardwareSpecs": false,
    "memoryGiB": 32,
    "name": "ml.c5.4xlarge",
    "vcpuNum": 16
   },
   {
    "_defaultOrder": 25,
    "_isFastLaunch": false,
    "category": "Compute optimized",
    "gpuNum": 0,
    "hideHardwareSpecs": false,
    "memoryGiB": 72,
    "name": "ml.c5.9xlarge",
    "vcpuNum": 36
   },
   {
    "_defaultOrder": 26,
    "_isFastLaunch": false,
    "category": "Compute optimized",
    "gpuNum": 0,
    "hideHardwareSpecs": false,
    "memoryGiB": 96,
    "name": "ml.c5.12xlarge",
    "vcpuNum": 48
   },
   {
    "_defaultOrder": 27,
    "_isFastLaunch": false,
    "category": "Compute optimized",
    "gpuNum": 0,
    "hideHardwareSpecs": false,
    "memoryGiB": 144,
    "name": "ml.c5.18xlarge",
    "vcpuNum": 72
   },
   {
    "_defaultOrder": 28,
    "_isFastLaunch": false,
    "category": "Compute optimized",
    "gpuNum": 0,
    "hideHardwareSpecs": false,
    "memoryGiB": 192,
    "name": "ml.c5.24xlarge",
    "vcpuNum": 96
   },
   {
    "_defaultOrder": 29,
    "_isFastLaunch": true,
    "category": "Accelerated computing",
    "gpuNum": 1,
    "hideHardwareSpecs": false,
    "memoryGiB": 16,
    "name": "ml.g4dn.xlarge",
    "vcpuNum": 4
   },
   {
    "_defaultOrder": 30,
    "_isFastLaunch": false,
    "category": "Accelerated computing",
    "gpuNum": 1,
    "hideHardwareSpecs": false,
    "memoryGiB": 32,
    "name": "ml.g4dn.2xlarge",
    "vcpuNum": 8
   },
   {
    "_defaultOrder": 31,
    "_isFastLaunch": false,
    "category": "Accelerated computing",
    "gpuNum": 1,
    "hideHardwareSpecs": false,
    "memoryGiB": 64,
    "name": "ml.g4dn.4xlarge",
    "vcpuNum": 16
   },
   {
    "_defaultOrder": 32,
    "_isFastLaunch": false,
    "category": "Accelerated computing",
    "gpuNum": 1,
    "hideHardwareSpecs": false,
    "memoryGiB": 128,
    "name": "ml.g4dn.8xlarge",
    "vcpuNum": 32
   },
   {
    "_defaultOrder": 33,
    "_isFastLaunch": false,
    "category": "Accelerated computing",
    "gpuNum": 4,
    "hideHardwareSpecs": false,
    "memoryGiB": 192,
    "name": "ml.g4dn.12xlarge",
    "vcpuNum": 48
   },
   {
    "_defaultOrder": 34,
    "_isFastLaunch": false,
    "category": "Accelerated computing",
    "gpuNum": 1,
    "hideHardwareSpecs": false,
    "memoryGiB": 256,
    "name": "ml.g4dn.16xlarge",
    "vcpuNum": 64
   },
   {
    "_defaultOrder": 35,
    "_isFastLaunch": false,
    "category": "Accelerated computing",
    "gpuNum": 1,
    "hideHardwareSpecs": false,
    "memoryGiB": 61,
    "name": "ml.p3.2xlarge",
    "vcpuNum": 8
   },
   {
    "_defaultOrder": 36,
    "_isFastLaunch": false,
    "category": "Accelerated computing",
    "gpuNum": 4,
    "hideHardwareSpecs": false,
    "memoryGiB": 244,
    "name": "ml.p3.8xlarge",
    "vcpuNum": 32
   },
   {
    "_defaultOrder": 37,
    "_isFastLaunch": false,
    "category": "Accelerated computing",
    "gpuNum": 8,
    "hideHardwareSpecs": false,
    "memoryGiB": 488,
    "name": "ml.p3.16xlarge",
    "vcpuNum": 64
   },
   {
    "_defaultOrder": 38,
    "_isFastLaunch": false,
    "category": "Accelerated computing",
    "gpuNum": 8,
    "hideHardwareSpecs": false,
    "memoryGiB": 768,
    "name": "ml.p3dn.24xlarge",
    "vcpuNum": 96
   },
   {
    "_defaultOrder": 39,
    "_isFastLaunch": false,
    "category": "Memory Optimized",
    "gpuNum": 0,
    "hideHardwareSpecs": false,
    "memoryGiB": 16,
    "name": "ml.r5.large",
    "vcpuNum": 2
   },
   {
    "_defaultOrder": 40,
    "_isFastLaunch": false,
    "category": "Memory Optimized",
    "gpuNum": 0,
    "hideHardwareSpecs": false,
    "memoryGiB": 32,
    "name": "ml.r5.xlarge",
    "vcpuNum": 4
   },
   {
    "_defaultOrder": 41,
    "_isFastLaunch": false,
    "category": "Memory Optimized",
    "gpuNum": 0,
    "hideHardwareSpecs": false,
    "memoryGiB": 64,
    "name": "ml.r5.2xlarge",
    "vcpuNum": 8
   },
   {
    "_defaultOrder": 42,
    "_isFastLaunch": false,
    "category": "Memory Optimized",
    "gpuNum": 0,
    "hideHardwareSpecs": false,
    "memoryGiB": 128,
    "name": "ml.r5.4xlarge",
    "vcpuNum": 16
   },
   {
    "_defaultOrder": 43,
    "_isFastLaunch": false,
    "category": "Memory Optimized",
    "gpuNum": 0,
    "hideHardwareSpecs": false,
    "memoryGiB": 256,
    "name": "ml.r5.8xlarge",
    "vcpuNum": 32
   },
   {
    "_defaultOrder": 44,
    "_isFastLaunch": false,
    "category": "Memory Optimized",
    "gpuNum": 0,
    "hideHardwareSpecs": false,
    "memoryGiB": 384,
    "name": "ml.r5.12xlarge",
    "vcpuNum": 48
   },
   {
    "_defaultOrder": 45,
    "_isFastLaunch": false,
    "category": "Memory Optimized",
    "gpuNum": 0,
    "hideHardwareSpecs": false,
    "memoryGiB": 512,
    "name": "ml.r5.16xlarge",
    "vcpuNum": 64
   },
   {
    "_defaultOrder": 46,
    "_isFastLaunch": false,
    "category": "Memory Optimized",
    "gpuNum": 0,
    "hideHardwareSpecs": false,
    "memoryGiB": 768,
    "name": "ml.r5.24xlarge",
    "vcpuNum": 96
   },
   {
    "_defaultOrder": 47,
    "_isFastLaunch": false,
    "category": "Accelerated computing",
    "gpuNum": 1,
    "hideHardwareSpecs": false,
    "memoryGiB": 16,
    "name": "ml.g5.xlarge",
    "vcpuNum": 4
   },
   {
    "_defaultOrder": 48,
    "_isFastLaunch": false,
    "category": "Accelerated computing",
    "gpuNum": 1,
    "hideHardwareSpecs": false,
    "memoryGiB": 32,
    "name": "ml.g5.2xlarge",
    "vcpuNum": 8
   },
   {
    "_defaultOrder": 49,
    "_isFastLaunch": false,
    "category": "Accelerated computing",
    "gpuNum": 1,
    "hideHardwareSpecs": false,
    "memoryGiB": 64,
    "name": "ml.g5.4xlarge",
    "vcpuNum": 16
   },
   {
    "_defaultOrder": 50,
    "_isFastLaunch": false,
    "category": "Accelerated computing",
    "gpuNum": 1,
    "hideHardwareSpecs": false,
    "memoryGiB": 128,
    "name": "ml.g5.8xlarge",
    "vcpuNum": 32
   },
   {
    "_defaultOrder": 51,
    "_isFastLaunch": false,
    "category": "Accelerated computing",
    "gpuNum": 1,
    "hideHardwareSpecs": false,
    "memoryGiB": 256,
    "name": "ml.g5.16xlarge",
    "vcpuNum": 64
   },
   {
    "_defaultOrder": 52,
    "_isFastLaunch": false,
    "category": "Accelerated computing",
    "gpuNum": 4,
    "hideHardwareSpecs": false,
    "memoryGiB": 192,
    "name": "ml.g5.12xlarge",
    "vcpuNum": 48
   },
   {
    "_defaultOrder": 53,
    "_isFastLaunch": false,
    "category": "Accelerated computing",
    "gpuNum": 4,
    "hideHardwareSpecs": false,
    "memoryGiB": 384,
    "name": "ml.g5.24xlarge",
    "vcpuNum": 96
   },
   {
    "_defaultOrder": 54,
    "_isFastLaunch": false,
    "category": "Accelerated computing",
    "gpuNum": 8,
    "hideHardwareSpecs": false,
    "memoryGiB": 768,
    "name": "ml.g5.48xlarge",
    "vcpuNum": 192
   },
   {
    "_defaultOrder": 55,
    "_isFastLaunch": false,
    "category": "Accelerated computing",
    "gpuNum": 8,
    "hideHardwareSpecs": false,
    "memoryGiB": 1152,
    "name": "ml.p4d.24xlarge",
    "vcpuNum": 96
   },
   {
    "_defaultOrder": 56,
    "_isFastLaunch": false,
    "category": "Accelerated computing",
    "gpuNum": 8,
    "hideHardwareSpecs": false,
    "memoryGiB": 1152,
    "name": "ml.p4de.24xlarge",
    "vcpuNum": 96
   }
  ],
  "instance_type": "ml.t3.medium",
  "kernelspec": {
   "display_name": "PySpark (SparkMagic)",
   "language": "python",
   "name": "pysparkkernel__SAGEMAKER_INTERNAL__arn:aws:sagemaker:us-east-1:081325390199:image/sagemaker-sparkmagic"
  },
  "language_info": {
   "codemirror_mode": {
    "name": "python",
    "version": 3
   },
   "file_extension": ".py",
   "mimetype": "text/x-python",
   "name": "pyspark",
   "pygments_lexer": "python3"
  },
  "toc-autonumbering": false
 },
 "nbformat": 4,
 "nbformat_minor": 5
}
