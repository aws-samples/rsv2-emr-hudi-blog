{
 "cells": [
  {
   "cell_type": "markdown",
   "id": "0c078a42-5103-4290-9e79-4b52baa19d5e",
   "metadata": {},
   "source": [
    "# 0.Notebook Setup With Hudi Table Non-PII Reader EMR Runtime Role\n"
   ]
  },
  {
   "cell_type": "code",
   "execution_count": null,
   "id": "226af549-84ef-42a1-9250-7e9569598240",
   "metadata": {
    "tags": []
   },
   "outputs": [],
   "source": [
    "%%configure -f\n",
    "{ \"conf\": {\n",
    "    \"spark.jars\":\"hdfs:///apps/hudi/lib/hudi-spark-bundle.jar\",\n",
    "    \"spark.serializer\":\"org.apache.spark.serializer.KryoSerializer\",\n",
    "    \"spark.sql.catalog.spark_catalog\": \"org.apache.spark.sql.hudi.catalog.HoodieCatalog\",\n",
    "    \"spark.sql.extensions\":\"org.apache.spark.sql.hudi.HoodieSparkSessionExtension,com.amazonaws.emr.recordserver.connector.spark.sql.RecordServerSQLExtension\",\n",
    "    \"spark.sql.catalog.spark_catalog.lf.managed\":\"true\"\n",
    "}}"
   ]
  },
  {
   "cell_type": "code",
   "execution_count": null,
   "id": "a16a2914-a13f-4b6e-a17d-b9fc84e83675",
   "metadata": {
    "tags": []
   },
   "outputs": [],
   "source": [
    "# Import libraries\n",
    "\n",
    "import os\n",
    "from datetime import datetime\n",
    "\n",
    "from pyspark.sql.functions import col,lit, current_timestamp,unix_timestamp, min, when, desc, split"
   ]
  },
  {
   "cell_type": "markdown",
   "id": "2a7dcc1d-ff8b-4ebb-8388-d2d266fc6c6d",
   "metadata": {},
   "source": [
    "## 0.1 Global variables setup\n",
    "\n",
    "Go to 'CloudFormation'. Select the blog stack, and select 'Outputs' tab. Copy 'S3BucketName' value, and replace `<STACK-OUTPUTS-S3-BUCKET-NAME>` in the following cell."
   ]
  },
  {
   "cell_type": "code",
   "execution_count": null,
   "id": "b2f8142d-386e-46fe-ad06-d95c624c2697",
   "metadata": {
    "tags": []
   },
   "outputs": [],
   "source": [
    "S3_BUCKET_NAME = <\"STACK-OUTPUTS-S3-BUCKET-NAME\">"
   ]
  },
  {
   "cell_type": "code",
   "execution_count": null,
   "id": "eb54f387-c795-4772-ba4c-e3d810f01886",
   "metadata": {
    "tags": []
   },
   "outputs": [],
   "source": [
    "VERSION = 1\n",
    "\n",
    "TABLE_NAME = \"dl_tpc_customer\"\n",
    "HUDI_DATABASE = f\"rsv2_blog_hudi_db_{VERSION}\"\n",
    "HUDI_DATABASE_LOCATION = os.path.join(\n",
    "    \"s3://\",\n",
    "    S3_BUCKET_NAME,\n",
    "    HUDI_DATABASE\n",
    ")\n",
    "\n",
    "COW_TABLE_NAME_SQL = f\"rsv2_blog_hudi_cow_sql_{TABLE_NAME}_{VERSION}\"\n",
    "COW_TABLE_LOCATION_SQL = os.path.join(\n",
    "    HUDI_DATABASE_LOCATION,\n",
    "    COW_TABLE_NAME_SQL\n",
    ")\n",
    "\n",
    "MOR_TABLE_NAME_SQL = f\"rsv2_blog_hudi_mor_sql_{TABLE_NAME}_{VERSION}\"\n",
    "MOR_TABLE_LOCATION_SQL = os.path.join(\n",
    "    HUDI_DATABASE_LOCATION,\n",
    "    MOR_TABLE_NAME_SQL\n",
    ")"
   ]
  },
  {
   "cell_type": "markdown",
   "id": "c3ab28b5-4f84-42c2-a76b-29c0207e0f7e",
   "metadata": {},
   "source": [
    "## 0.2 Spark variables setup"
   ]
  },
  {
   "cell_type": "code",
   "execution_count": null,
   "id": "85d342bc-5bb7-45f9-895d-041c2f8dbb3b",
   "metadata": {
    "tags": []
   },
   "outputs": [],
   "source": [
    "# sparkmagic SQL configs\n",
    "\n",
    "spark.conf.set('hudi_db', HUDI_DATABASE)\n",
    "spark.conf.set('hudi_db_location', HUDI_DATABASE_LOCATION)\n",
    "\n",
    "spark.conf.set('cow_table_name_sql', COW_TABLE_NAME_SQL)\n",
    "spark.conf.set('cow_table_location_sql', COW_TABLE_LOCATION_SQL)\n",
    "\n",
    "spark.conf.set('mor_table_name_sql', MOR_TABLE_NAME_SQL)\n",
    "spark.conf.set('mor_table_location_sql', MOR_TABLE_LOCATION_SQL)\n"
   ]
  },
  {
   "cell_type": "markdown",
   "id": "e20392e2-a714-4afc-896e-7a883ea79ee3",
   "metadata": {},
   "source": [
    "# 1. Hudi Table PII Reader Lake Formation Configuration\n",
    "\n",
    "***Please do the following steps in Blog \"Query Hudi tables with column-level & row-level data filters\" Section before runing the following cells***\n"
   ]
  },
  {
   "cell_type": "markdown",
   "id": "d7f91bf7-bb4f-40d0-a433-ff455f8d78ba",
   "metadata": {
    "tags": []
   },
   "source": [
    "# 2. Hudi MoR Table Queries with FAGC\n"
   ]
  },
  {
   "cell_type": "markdown",
   "id": "cc57e7f9-6d1a-4fb4-981e-ca0229bc31c3",
   "metadata": {},
   "source": [
    "## 2.1 MoR snapshot queries with data filter"
   ]
  },
  {
   "cell_type": "code",
   "execution_count": null,
   "id": "22087ac4-585c-4696-be52-36771c782d7b",
   "metadata": {
    "tags": []
   },
   "outputs": [],
   "source": [
    "%%sql\n",
    "\n",
    "SELECT * FROM ${hudi_db}.${mor_table_name_sql} LIMIT 10;"
   ]
  },
  {
   "cell_type": "markdown",
   "id": "be749a40-ddaa-4486-9dea-288fa19830db",
   "metadata": {},
   "source": [
    "## 2.2 MoR incremental queries with data filter"
   ]
  },
  {
   "cell_type": "code",
   "execution_count": null,
   "id": "b154831e-49e7-4e91-8855-5d271038478b",
   "metadata": {
    "tags": []
   },
   "outputs": [],
   "source": [
    "# Get Hudi commit time\n",
    "df = spark.sql(f\"\"\"\n",
    "SELECT DISTINCT _hoodie_commit_time FROM {HUDI_DATABASE}.{MOR_TABLE_NAME_SQL} ORDER BY _hoodie_commit_time\n",
    "\"\"\")\n",
    "\n",
    "commit_ts = [row.asDict()[\"_hoodie_commit_time\"] for row in df.collect()]\n",
    "commit_ts"
   ]
  },
  {
   "cell_type": "code",
   "execution_count": null,
   "id": "1c9450ec-004a-47e4-af41-28310dcf0292",
   "metadata": {
    "tags": []
   },
   "outputs": [],
   "source": [
    "incremental_df = spark.sql(f\"\"\"\n",
    "SELECT * FROM {HUDI_DATABASE}.{MOR_TABLE_NAME_SQL} WHERE _hoodie_commit_time >= {commit_ts[-1]}\n",
    "\"\"\")\n",
    "\n",
    "incremental_df.createOrReplaceTempView(\"incremental_view\")"
   ]
  },
  {
   "cell_type": "code",
   "execution_count": null,
   "id": "0cc15ac6-1be4-4303-911b-c05114733e9b",
   "metadata": {
    "tags": []
   },
   "outputs": [],
   "source": [
    "%%sql\n",
    "\n",
    "SELECT \n",
    "    c_birth_country, \n",
    "    count(*) \n",
    "FROM incremental_view\n",
    "GROUP BY c_birth_country;"
   ]
  },
  {
   "cell_type": "code",
   "execution_count": null,
   "id": "fe33f152-23ed-4863-a49e-0f4b94d05853",
   "metadata": {
    "tags": []
   },
   "outputs": [],
   "source": [
    "%%sql\n",
    "\n",
    "SELECT * FROM incremental_view"
   ]
  },
  {
   "cell_type": "markdown",
   "id": "9b8e9f8f-0e9d-40c1-91fd-5cf372dfaae5",
   "metadata": {},
   "source": [
    "## 2.3 MoR time travel queries with data filter"
   ]
  },
  {
   "cell_type": "code",
   "execution_count": null,
   "id": "95079f2b-3a1a-4eb4-b76b-4522ad489305",
   "metadata": {
    "tags": []
   },
   "outputs": [],
   "source": [
    "# Get Hudi commit time\n",
    "df = spark.sql(f\"\"\"\n",
    "SELECT DISTINCT _hoodie_commit_time FROM {HUDI_DATABASE}.{MOR_TABLE_NAME_SQL} ORDER BY _hoodie_commit_time\n",
    "\"\"\")\n",
    "\n",
    "commit_ts = [row.asDict()[\"_hoodie_commit_time\"] for row in df.collect()]\n",
    "commit_ts"
   ]
  },
  {
   "cell_type": "code",
   "execution_count": null,
   "id": "2ce343c9-84b3-46d6-b497-ba5796aa74e0",
   "metadata": {
    "tags": []
   },
   "outputs": [],
   "source": [
    "time_df = spark.sql(f\"\"\"\n",
    "SELECT * FROM {HUDI_DATABASE}.{MOR_TABLE_NAME_SQL} WHERE _hoodie_commit_time == {commit_ts[-2]}\n",
    "\"\"\")\n",
    "\n",
    "time_df.groupBy(\"c_birth_country\").count().show(10, False"
   ]
  },
  {
   "cell_type": "markdown",
   "id": "024d5d78-8784-44d5-a87a-b00cc073479d",
   "metadata": {
    "tags": []
   },
   "source": [
    "## 2.4 Observations for MoR queries with dat afilter\n",
    "\n",
    "* Lake Formation data filter can be applied to non-PII table reader role\n",
    "* MoR Incremental and time travel queries can work with Lake Formation data filter\n",
    "\n",
    "* Spark SQL for MoR time travel is not working\n"
   ]
  },
  {
   "cell_type": "code",
   "execution_count": null,
   "id": "b609db16-8e8a-40d5-a97d-c06f6d645b91",
   "metadata": {},
   "outputs": [],
   "source": []
  }
 ],
 "metadata": {
  "availableInstances": [
   {
    "_defaultOrder": 0,
    "_isFastLaunch": true,
    "category": "General purpose",
    "gpuNum": 0,
    "hideHardwareSpecs": false,
    "memoryGiB": 4,
    "name": "ml.t3.medium",
    "vcpuNum": 2
   },
   {
    "_defaultOrder": 1,
    "_isFastLaunch": false,
    "category": "General purpose",
    "gpuNum": 0,
    "hideHardwareSpecs": false,
    "memoryGiB": 8,
    "name": "ml.t3.large",
    "vcpuNum": 2
   },
   {
    "_defaultOrder": 2,
    "_isFastLaunch": false,
    "category": "General purpose",
    "gpuNum": 0,
    "hideHardwareSpecs": false,
    "memoryGiB": 16,
    "name": "ml.t3.xlarge",
    "vcpuNum": 4
   },
   {
    "_defaultOrder": 3,
    "_isFastLaunch": false,
    "category": "General purpose",
    "gpuNum": 0,
    "hideHardwareSpecs": false,
    "memoryGiB": 32,
    "name": "ml.t3.2xlarge",
    "vcpuNum": 8
   },
   {
    "_defaultOrder": 4,
    "_isFastLaunch": true,
    "category": "General purpose",
    "gpuNum": 0,
    "hideHardwareSpecs": false,
    "memoryGiB": 8,
    "name": "ml.m5.large",
    "vcpuNum": 2
   },
   {
    "_defaultOrder": 5,
    "_isFastLaunch": false,
    "category": "General purpose",
    "gpuNum": 0,
    "hideHardwareSpecs": false,
    "memoryGiB": 16,
    "name": "ml.m5.xlarge",
    "vcpuNum": 4
   },
   {
    "_defaultOrder": 6,
    "_isFastLaunch": false,
    "category": "General purpose",
    "gpuNum": 0,
    "hideHardwareSpecs": false,
    "memoryGiB": 32,
    "name": "ml.m5.2xlarge",
    "vcpuNum": 8
   },
   {
    "_defaultOrder": 7,
    "_isFastLaunch": false,
    "category": "General purpose",
    "gpuNum": 0,
    "hideHardwareSpecs": false,
    "memoryGiB": 64,
    "name": "ml.m5.4xlarge",
    "vcpuNum": 16
   },
   {
    "_defaultOrder": 8,
    "_isFastLaunch": false,
    "category": "General purpose",
    "gpuNum": 0,
    "hideHardwareSpecs": false,
    "memoryGiB": 128,
    "name": "ml.m5.8xlarge",
    "vcpuNum": 32
   },
   {
    "_defaultOrder": 9,
    "_isFastLaunch": false,
    "category": "General purpose",
    "gpuNum": 0,
    "hideHardwareSpecs": false,
    "memoryGiB": 192,
    "name": "ml.m5.12xlarge",
    "vcpuNum": 48
   },
   {
    "_defaultOrder": 10,
    "_isFastLaunch": false,
    "category": "General purpose",
    "gpuNum": 0,
    "hideHardwareSpecs": false,
    "memoryGiB": 256,
    "name": "ml.m5.16xlarge",
    "vcpuNum": 64
   },
   {
    "_defaultOrder": 11,
    "_isFastLaunch": false,
    "category": "General purpose",
    "gpuNum": 0,
    "hideHardwareSpecs": false,
    "memoryGiB": 384,
    "name": "ml.m5.24xlarge",
    "vcpuNum": 96
   },
   {
    "_defaultOrder": 12,
    "_isFastLaunch": false,
    "category": "General purpose",
    "gpuNum": 0,
    "hideHardwareSpecs": false,
    "memoryGiB": 8,
    "name": "ml.m5d.large",
    "vcpuNum": 2
   },
   {
    "_defaultOrder": 13,
    "_isFastLaunch": false,
    "category": "General purpose",
    "gpuNum": 0,
    "hideHardwareSpecs": false,
    "memoryGiB": 16,
    "name": "ml.m5d.xlarge",
    "vcpuNum": 4
   },
   {
    "_defaultOrder": 14,
    "_isFastLaunch": false,
    "category": "General purpose",
    "gpuNum": 0,
    "hideHardwareSpecs": false,
    "memoryGiB": 32,
    "name": "ml.m5d.2xlarge",
    "vcpuNum": 8
   },
   {
    "_defaultOrder": 15,
    "_isFastLaunch": false,
    "category": "General purpose",
    "gpuNum": 0,
    "hideHardwareSpecs": false,
    "memoryGiB": 64,
    "name": "ml.m5d.4xlarge",
    "vcpuNum": 16
   },
   {
    "_defaultOrder": 16,
    "_isFastLaunch": false,
    "category": "General purpose",
    "gpuNum": 0,
    "hideHardwareSpecs": false,
    "memoryGiB": 128,
    "name": "ml.m5d.8xlarge",
    "vcpuNum": 32
   },
   {
    "_defaultOrder": 17,
    "_isFastLaunch": false,
    "category": "General purpose",
    "gpuNum": 0,
    "hideHardwareSpecs": false,
    "memoryGiB": 192,
    "name": "ml.m5d.12xlarge",
    "vcpuNum": 48
   },
   {
    "_defaultOrder": 18,
    "_isFastLaunch": false,
    "category": "General purpose",
    "gpuNum": 0,
    "hideHardwareSpecs": false,
    "memoryGiB": 256,
    "name": "ml.m5d.16xlarge",
    "vcpuNum": 64
   },
   {
    "_defaultOrder": 19,
    "_isFastLaunch": false,
    "category": "General purpose",
    "gpuNum": 0,
    "hideHardwareSpecs": false,
    "memoryGiB": 384,
    "name": "ml.m5d.24xlarge",
    "vcpuNum": 96
   },
   {
    "_defaultOrder": 20,
    "_isFastLaunch": false,
    "category": "General purpose",
    "gpuNum": 0,
    "hideHardwareSpecs": true,
    "memoryGiB": 0,
    "name": "ml.geospatial.interactive",
    "supportedImageNames": [
     "sagemaker-geospatial-v1-0"
    ],
    "vcpuNum": 0
   },
   {
    "_defaultOrder": 21,
    "_isFastLaunch": true,
    "category": "Compute optimized",
    "gpuNum": 0,
    "hideHardwareSpecs": false,
    "memoryGiB": 4,
    "name": "ml.c5.large",
    "vcpuNum": 2
   },
   {
    "_defaultOrder": 22,
    "_isFastLaunch": false,
    "category": "Compute optimized",
    "gpuNum": 0,
    "hideHardwareSpecs": false,
    "memoryGiB": 8,
    "name": "ml.c5.xlarge",
    "vcpuNum": 4
   },
   {
    "_defaultOrder": 23,
    "_isFastLaunch": false,
    "category": "Compute optimized",
    "gpuNum": 0,
    "hideHardwareSpecs": false,
    "memoryGiB": 16,
    "name": "ml.c5.2xlarge",
    "vcpuNum": 8
   },
   {
    "_defaultOrder": 24,
    "_isFastLaunch": false,
    "category": "Compute optimized",
    "gpuNum": 0,
    "hideHardwareSpecs": false,
    "memoryGiB": 32,
    "name": "ml.c5.4xlarge",
    "vcpuNum": 16
   },
   {
    "_defaultOrder": 25,
    "_isFastLaunch": false,
    "category": "Compute optimized",
    "gpuNum": 0,
    "hideHardwareSpecs": false,
    "memoryGiB": 72,
    "name": "ml.c5.9xlarge",
    "vcpuNum": 36
   },
   {
    "_defaultOrder": 26,
    "_isFastLaunch": false,
    "category": "Compute optimized",
    "gpuNum": 0,
    "hideHardwareSpecs": false,
    "memoryGiB": 96,
    "name": "ml.c5.12xlarge",
    "vcpuNum": 48
   },
   {
    "_defaultOrder": 27,
    "_isFastLaunch": false,
    "category": "Compute optimized",
    "gpuNum": 0,
    "hideHardwareSpecs": false,
    "memoryGiB": 144,
    "name": "ml.c5.18xlarge",
    "vcpuNum": 72
   },
   {
    "_defaultOrder": 28,
    "_isFastLaunch": false,
    "category": "Compute optimized",
    "gpuNum": 0,
    "hideHardwareSpecs": false,
    "memoryGiB": 192,
    "name": "ml.c5.24xlarge",
    "vcpuNum": 96
   },
   {
    "_defaultOrder": 29,
    "_isFastLaunch": true,
    "category": "Accelerated computing",
    "gpuNum": 1,
    "hideHardwareSpecs": false,
    "memoryGiB": 16,
    "name": "ml.g4dn.xlarge",
    "vcpuNum": 4
   },
   {
    "_defaultOrder": 30,
    "_isFastLaunch": false,
    "category": "Accelerated computing",
    "gpuNum": 1,
    "hideHardwareSpecs": false,
    "memoryGiB": 32,
    "name": "ml.g4dn.2xlarge",
    "vcpuNum": 8
   },
   {
    "_defaultOrder": 31,
    "_isFastLaunch": false,
    "category": "Accelerated computing",
    "gpuNum": 1,
    "hideHardwareSpecs": false,
    "memoryGiB": 64,
    "name": "ml.g4dn.4xlarge",
    "vcpuNum": 16
   },
   {
    "_defaultOrder": 32,
    "_isFastLaunch": false,
    "category": "Accelerated computing",
    "gpuNum": 1,
    "hideHardwareSpecs": false,
    "memoryGiB": 128,
    "name": "ml.g4dn.8xlarge",
    "vcpuNum": 32
   },
   {
    "_defaultOrder": 33,
    "_isFastLaunch": false,
    "category": "Accelerated computing",
    "gpuNum": 4,
    "hideHardwareSpecs": false,
    "memoryGiB": 192,
    "name": "ml.g4dn.12xlarge",
    "vcpuNum": 48
   },
   {
    "_defaultOrder": 34,
    "_isFastLaunch": false,
    "category": "Accelerated computing",
    "gpuNum": 1,
    "hideHardwareSpecs": false,
    "memoryGiB": 256,
    "name": "ml.g4dn.16xlarge",
    "vcpuNum": 64
   },
   {
    "_defaultOrder": 35,
    "_isFastLaunch": false,
    "category": "Accelerated computing",
    "gpuNum": 1,
    "hideHardwareSpecs": false,
    "memoryGiB": 61,
    "name": "ml.p3.2xlarge",
    "vcpuNum": 8
   },
   {
    "_defaultOrder": 36,
    "_isFastLaunch": false,
    "category": "Accelerated computing",
    "gpuNum": 4,
    "hideHardwareSpecs": false,
    "memoryGiB": 244,
    "name": "ml.p3.8xlarge",
    "vcpuNum": 32
   },
   {
    "_defaultOrder": 37,
    "_isFastLaunch": false,
    "category": "Accelerated computing",
    "gpuNum": 8,
    "hideHardwareSpecs": false,
    "memoryGiB": 488,
    "name": "ml.p3.16xlarge",
    "vcpuNum": 64
   },
   {
    "_defaultOrder": 38,
    "_isFastLaunch": false,
    "category": "Accelerated computing",
    "gpuNum": 8,
    "hideHardwareSpecs": false,
    "memoryGiB": 768,
    "name": "ml.p3dn.24xlarge",
    "vcpuNum": 96
   },
   {
    "_defaultOrder": 39,
    "_isFastLaunch": false,
    "category": "Memory Optimized",
    "gpuNum": 0,
    "hideHardwareSpecs": false,
    "memoryGiB": 16,
    "name": "ml.r5.large",
    "vcpuNum": 2
   },
   {
    "_defaultOrder": 40,
    "_isFastLaunch": false,
    "category": "Memory Optimized",
    "gpuNum": 0,
    "hideHardwareSpecs": false,
    "memoryGiB": 32,
    "name": "ml.r5.xlarge",
    "vcpuNum": 4
   },
   {
    "_defaultOrder": 41,
    "_isFastLaunch": false,
    "category": "Memory Optimized",
    "gpuNum": 0,
    "hideHardwareSpecs": false,
    "memoryGiB": 64,
    "name": "ml.r5.2xlarge",
    "vcpuNum": 8
   },
   {
    "_defaultOrder": 42,
    "_isFastLaunch": false,
    "category": "Memory Optimized",
    "gpuNum": 0,
    "hideHardwareSpecs": false,
    "memoryGiB": 128,
    "name": "ml.r5.4xlarge",
    "vcpuNum": 16
   },
   {
    "_defaultOrder": 43,
    "_isFastLaunch": false,
    "category": "Memory Optimized",
    "gpuNum": 0,
    "hideHardwareSpecs": false,
    "memoryGiB": 256,
    "name": "ml.r5.8xlarge",
    "vcpuNum": 32
   },
   {
    "_defaultOrder": 44,
    "_isFastLaunch": false,
    "category": "Memory Optimized",
    "gpuNum": 0,
    "hideHardwareSpecs": false,
    "memoryGiB": 384,
    "name": "ml.r5.12xlarge",
    "vcpuNum": 48
   },
   {
    "_defaultOrder": 45,
    "_isFastLaunch": false,
    "category": "Memory Optimized",
    "gpuNum": 0,
    "hideHardwareSpecs": false,
    "memoryGiB": 512,
    "name": "ml.r5.16xlarge",
    "vcpuNum": 64
   },
   {
    "_defaultOrder": 46,
    "_isFastLaunch": false,
    "category": "Memory Optimized",
    "gpuNum": 0,
    "hideHardwareSpecs": false,
    "memoryGiB": 768,
    "name": "ml.r5.24xlarge",
    "vcpuNum": 96
   },
   {
    "_defaultOrder": 47,
    "_isFastLaunch": false,
    "category": "Accelerated computing",
    "gpuNum": 1,
    "hideHardwareSpecs": false,
    "memoryGiB": 16,
    "name": "ml.g5.xlarge",
    "vcpuNum": 4
   },
   {
    "_defaultOrder": 48,
    "_isFastLaunch": false,
    "category": "Accelerated computing",
    "gpuNum": 1,
    "hideHardwareSpecs": false,
    "memoryGiB": 32,
    "name": "ml.g5.2xlarge",
    "vcpuNum": 8
   },
   {
    "_defaultOrder": 49,
    "_isFastLaunch": false,
    "category": "Accelerated computing",
    "gpuNum": 1,
    "hideHardwareSpecs": false,
    "memoryGiB": 64,
    "name": "ml.g5.4xlarge",
    "vcpuNum": 16
   },
   {
    "_defaultOrder": 50,
    "_isFastLaunch": false,
    "category": "Accelerated computing",
    "gpuNum": 1,
    "hideHardwareSpecs": false,
    "memoryGiB": 128,
    "name": "ml.g5.8xlarge",
    "vcpuNum": 32
   },
   {
    "_defaultOrder": 51,
    "_isFastLaunch": false,
    "category": "Accelerated computing",
    "gpuNum": 1,
    "hideHardwareSpecs": false,
    "memoryGiB": 256,
    "name": "ml.g5.16xlarge",
    "vcpuNum": 64
   },
   {
    "_defaultOrder": 52,
    "_isFastLaunch": false,
    "category": "Accelerated computing",
    "gpuNum": 4,
    "hideHardwareSpecs": false,
    "memoryGiB": 192,
    "name": "ml.g5.12xlarge",
    "vcpuNum": 48
   },
   {
    "_defaultOrder": 53,
    "_isFastLaunch": false,
    "category": "Accelerated computing",
    "gpuNum": 4,
    "hideHardwareSpecs": false,
    "memoryGiB": 384,
    "name": "ml.g5.24xlarge",
    "vcpuNum": 96
   },
   {
    "_defaultOrder": 54,
    "_isFastLaunch": false,
    "category": "Accelerated computing",
    "gpuNum": 8,
    "hideHardwareSpecs": false,
    "memoryGiB": 768,
    "name": "ml.g5.48xlarge",
    "vcpuNum": 192
   },
   {
    "_defaultOrder": 55,
    "_isFastLaunch": false,
    "category": "Accelerated computing",
    "gpuNum": 8,
    "hideHardwareSpecs": false,
    "memoryGiB": 1152,
    "name": "ml.p4d.24xlarge",
    "vcpuNum": 96
   },
   {
    "_defaultOrder": 56,
    "_isFastLaunch": false,
    "category": "Accelerated computing",
    "gpuNum": 8,
    "hideHardwareSpecs": false,
    "memoryGiB": 1152,
    "name": "ml.p4de.24xlarge",
    "vcpuNum": 96
   }
  ],
  "instance_type": "ml.t3.medium",
  "kernelspec": {
   "display_name": "PySpark (SparkMagic)",
   "language": "python",
   "name": "pysparkkernel__SAGEMAKER_INTERNAL__arn:aws:sagemaker:us-east-1:081325390199:image/sagemaker-sparkmagic"
  },
  "language_info": {
   "codemirror_mode": {
    "name": "python",
    "version": 3
   },
   "file_extension": ".py",
   "mimetype": "text/x-python",
   "name": "pyspark",
   "pygments_lexer": "python3"
  }
 },
 "nbformat": 4,
 "nbformat_minor": 5
}
